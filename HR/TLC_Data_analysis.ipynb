{
  "cells": [
    {
      "cell_type": "markdown",
      "metadata": {
        "id": "view-in-github",
        "colab_type": "text"
      },
      "source": [
        "<a href=\"https://colab.research.google.com/github/airborne3586/-/blob/main/HR/TLC_Data_analysis.ipynb\" target=\"_parent\"><img src=\"https://colab.research.google.com/assets/colab-badge.svg\" alt=\"Open In Colab\"/></a>"
      ]
    },
    {
      "cell_type": "code",
      "execution_count": null,
      "metadata": {
        "colab": {
          "base_uri": "https://localhost:8080/"
        },
        "id": "Li3DbNn1HoaP",
        "outputId": "d71904e0-5613-498e-ce2d-6e208564dbfb"
      },
      "outputs": [
        {
          "output_type": "stream",
          "name": "stdout",
          "text": [
            "The following NEW packages will be installed:\n",
            "  fonts-nanum\n",
            "0 upgraded, 1 newly installed, 0 to remove and 8 not upgraded.\n",
            "Need to get 10.3 MB of archives.\n",
            "After this operation, 34.1 MB of additional disk space will be used.\n",
            "Selecting previously unselected package fonts-nanum.\n",
            "(Reading database ... 120882 files and directories currently installed.)\n",
            "Preparing to unpack .../fonts-nanum_20200506-1_all.deb ...\n",
            "Unpacking fonts-nanum (20200506-1) ...\n",
            "Setting up fonts-nanum (20200506-1) ...\n",
            "Processing triggers for fontconfig (2.13.1-4.2ubuntu5) ...\n"
          ]
        }
      ],
      "source": [
        "!apt -qq -y install fonts-nanum"
      ]
    },
    {
      "cell_type": "code",
      "execution_count": null,
      "metadata": {
        "id": "fHQMTMtaId9i"
      },
      "outputs": [],
      "source": [
        "import matplotlib.pyplot as plt\n",
        "import matplotlib.font_manager as fm\n",
        "\n",
        "fontpath = '/content/drive/My Drive/Colab Notebooks/[deep daiv.] 데이터 분석 2주차(NYC DA)/data/NanumBarunGothic.ttf'\n",
        "font = fm.FontProperties(fname=fontpath, size=9)\n",
        "plt.rc('font', family='NanumBarunGothic')"
      ]
    },
    {
      "cell_type": "code",
      "execution_count": null,
      "metadata": {
        "id": "N5V7deEUFaiz"
      },
      "outputs": [],
      "source": [
        "import pandas as pd\n",
        "import matplotlib.pyplot as plt\n",
        "import seaborn as sns\n",
        "import numpy as np"
      ]
    },
    {
      "cell_type": "markdown",
      "metadata": {
        "id": "_64HKjs30x9K"
      },
      "source": [
        "# 데이터 준비 및 확인"
      ]
    },
    {
      "cell_type": "code",
      "execution_count": null,
      "metadata": {
        "colab": {
          "base_uri": "https://localhost:8080/",
          "height": 36
        },
        "id": "wZ0VOoOVw9rv",
        "outputId": "b0e83dd1-035f-4d8b-b8d0-e21ceaf8e530"
      },
      "outputs": [
        {
          "output_type": "execute_result",
          "data": {
            "text/plain": [
              "'Tesla T4'"
            ],
            "application/vnd.google.colaboratory.intrinsic+json": {
              "type": "string"
            }
          },
          "metadata": {},
          "execution_count": 4
        }
      ],
      "source": [
        "#utiliser GPU\n",
        "import torch\n",
        "device = torch.device(\"cuda\")\n",
        "torch.cuda.get_device_name(0)"
      ]
    },
    {
      "cell_type": "code",
      "execution_count": null,
      "metadata": {
        "colab": {
          "base_uri": "https://localhost:8080/"
        },
        "id": "ZoO9g27GwofO",
        "outputId": "456d7e90-d0cb-481f-e0b0-289ef913119e"
      },
      "outputs": [
        {
          "output_type": "stream",
          "name": "stdout",
          "text": [
            "Mounted at /content/drive\n"
          ]
        }
      ],
      "source": [
        "from google.colab import drive\n",
        "import pandas as pd\n",
        "\n",
        "# Google Drive 마운트\n",
        "drive.mount('/content/drive')\n"
      ]
    },
    {
      "cell_type": "code",
      "execution_count": null,
      "metadata": {
        "id": "10AOwNu5xTQh"
      },
      "outputs": [],
      "source": [
        "# 파일 경로\n",
        "file_path = '/content/drive/My Drive/Colab Notebooks/[deep daiv.] 데이터 분석 2주차(NYC DA)/data/'\n",
        "\n",
        "#로드\n",
        "df1 = pd.read_parquet(file_path + 'fhvhv_tripdata_2023-01.parquet')\n",
        "df2 = pd.read_parquet(file_path + 'fhvhv_tripdata_2023-02.parquet')\n",
        "df3 = pd.read_parquet(file_path + 'fhvhv_tripdata_2023-03.parquet')\n"
      ]
    },
    {
      "cell_type": "code",
      "execution_count": null,
      "metadata": {
        "colab": {
          "base_uri": "https://localhost:8080/"
        },
        "id": "IiFJb96EzhPy",
        "outputId": "f6b928b5-9a77-496d-e1ec-35ae1ac34720"
      },
      "outputs": [
        {
          "output_type": "execute_result",
          "data": {
            "text/plain": [
              "dtype('<M8[ns]')"
            ]
          },
          "metadata": {},
          "execution_count": 7
        }
      ],
      "source": [
        "#데이터 타입 확인\n",
        "df2['request_datetime'].dtype"
      ]
    },
    {
      "cell_type": "markdown",
      "metadata": {
        "id": "NrxM_zNiz8DK"
      },
      "source": [
        "8바이트로 구성된 datetime 데이터 타입"
      ]
    },
    {
      "cell_type": "code",
      "execution_count": null,
      "metadata": {
        "id": "Yy3rDDHQypWk"
      },
      "outputs": [],
      "source": [
        "# 데이터프레임 병합\n",
        "df = pd.concat([df1, df2, df3], ignore_index=True)"
      ]
    },
    {
      "cell_type": "code",
      "source": [
        "max(df['tips'])"
      ],
      "metadata": {
        "id": "yRuCZX99uPIJ",
        "colab": {
          "base_uri": "https://localhost:8080/"
        },
        "outputId": "ac6b60f3-e935-4058-9fb9-e6326f387aec"
      },
      "execution_count": null,
      "outputs": [
        {
          "output_type": "execute_result",
          "data": {
            "text/plain": [
              "184.17"
            ]
          },
          "metadata": {},
          "execution_count": 9
        }
      ]
    },
    {
      "cell_type": "code",
      "source": [
        "df[df['tips'] == 184.17]\n"
      ],
      "metadata": {
        "colab": {
          "base_uri": "https://localhost:8080/",
          "height": 147
        },
        "id": "hNrHC6XwuEJD",
        "outputId": "b08e2f19-2ca5-46d4-a27d-ff536955911c"
      },
      "execution_count": null,
      "outputs": [
        {
          "output_type": "execute_result",
          "data": {
            "text/plain": [
              "         hvfhs_license_num dispatching_base_num originating_base_num  \\\n",
              "54346825            HV0003               B03404               B03404   \n",
              "\n",
              "            request_datetime   on_scene_datetime     pickup_datetime  \\\n",
              "54346825 2023-03-27 23:30:50 2023-03-27 23:38:13 2023-03-27 23:50:40   \n",
              "\n",
              "            dropoff_datetime  PULocationID  DOLocationID  trip_miles  ...  \\\n",
              "54346825 2023-03-28 03:43:35           132           265      209.19  ...   \n",
              "\n",
              "          sales_tax  congestion_surcharge  airport_fee    tips  driver_pay  \\\n",
              "54346825      74.67                   0.0          2.5  184.17      581.85   \n",
              "\n",
              "          shared_request_flag  shared_match_flag  access_a_ride_flag  \\\n",
              "54346825                    N                  N                       \n",
              "\n",
              "          wav_request_flag wav_match_flag  \n",
              "54346825                 N              N  \n",
              "\n",
              "[1 rows x 24 columns]"
            ],
            "text/html": [
              "\n",
              "  <div id=\"df-027ffc38-1526-466d-9d93-704c4b1537d5\" class=\"colab-df-container\">\n",
              "    <div>\n",
              "<style scoped>\n",
              "    .dataframe tbody tr th:only-of-type {\n",
              "        vertical-align: middle;\n",
              "    }\n",
              "\n",
              "    .dataframe tbody tr th {\n",
              "        vertical-align: top;\n",
              "    }\n",
              "\n",
              "    .dataframe thead th {\n",
              "        text-align: right;\n",
              "    }\n",
              "</style>\n",
              "<table border=\"1\" class=\"dataframe\">\n",
              "  <thead>\n",
              "    <tr style=\"text-align: right;\">\n",
              "      <th></th>\n",
              "      <th>hvfhs_license_num</th>\n",
              "      <th>dispatching_base_num</th>\n",
              "      <th>originating_base_num</th>\n",
              "      <th>request_datetime</th>\n",
              "      <th>on_scene_datetime</th>\n",
              "      <th>pickup_datetime</th>\n",
              "      <th>dropoff_datetime</th>\n",
              "      <th>PULocationID</th>\n",
              "      <th>DOLocationID</th>\n",
              "      <th>trip_miles</th>\n",
              "      <th>...</th>\n",
              "      <th>sales_tax</th>\n",
              "      <th>congestion_surcharge</th>\n",
              "      <th>airport_fee</th>\n",
              "      <th>tips</th>\n",
              "      <th>driver_pay</th>\n",
              "      <th>shared_request_flag</th>\n",
              "      <th>shared_match_flag</th>\n",
              "      <th>access_a_ride_flag</th>\n",
              "      <th>wav_request_flag</th>\n",
              "      <th>wav_match_flag</th>\n",
              "    </tr>\n",
              "  </thead>\n",
              "  <tbody>\n",
              "    <tr>\n",
              "      <th>54346825</th>\n",
              "      <td>HV0003</td>\n",
              "      <td>B03404</td>\n",
              "      <td>B03404</td>\n",
              "      <td>2023-03-27 23:30:50</td>\n",
              "      <td>2023-03-27 23:38:13</td>\n",
              "      <td>2023-03-27 23:50:40</td>\n",
              "      <td>2023-03-28 03:43:35</td>\n",
              "      <td>132</td>\n",
              "      <td>265</td>\n",
              "      <td>209.19</td>\n",
              "      <td>...</td>\n",
              "      <td>74.67</td>\n",
              "      <td>0.0</td>\n",
              "      <td>2.5</td>\n",
              "      <td>184.17</td>\n",
              "      <td>581.85</td>\n",
              "      <td>N</td>\n",
              "      <td>N</td>\n",
              "      <td></td>\n",
              "      <td>N</td>\n",
              "      <td>N</td>\n",
              "    </tr>\n",
              "  </tbody>\n",
              "</table>\n",
              "<p>1 rows × 24 columns</p>\n",
              "</div>\n",
              "    <div class=\"colab-df-buttons\">\n",
              "\n",
              "  <div class=\"colab-df-container\">\n",
              "    <button class=\"colab-df-convert\" onclick=\"convertToInteractive('df-027ffc38-1526-466d-9d93-704c4b1537d5')\"\n",
              "            title=\"Convert this dataframe to an interactive table.\"\n",
              "            style=\"display:none;\">\n",
              "\n",
              "  <svg xmlns=\"http://www.w3.org/2000/svg\" height=\"24px\" viewBox=\"0 -960 960 960\">\n",
              "    <path d=\"M120-120v-720h720v720H120Zm60-500h600v-160H180v160Zm220 220h160v-160H400v160Zm0 220h160v-160H400v160ZM180-400h160v-160H180v160Zm440 0h160v-160H620v160ZM180-180h160v-160H180v160Zm440 0h160v-160H620v160Z\"/>\n",
              "  </svg>\n",
              "    </button>\n",
              "\n",
              "  <style>\n",
              "    .colab-df-container {\n",
              "      display:flex;\n",
              "      gap: 12px;\n",
              "    }\n",
              "\n",
              "    .colab-df-convert {\n",
              "      background-color: #E8F0FE;\n",
              "      border: none;\n",
              "      border-radius: 50%;\n",
              "      cursor: pointer;\n",
              "      display: none;\n",
              "      fill: #1967D2;\n",
              "      height: 32px;\n",
              "      padding: 0 0 0 0;\n",
              "      width: 32px;\n",
              "    }\n",
              "\n",
              "    .colab-df-convert:hover {\n",
              "      background-color: #E2EBFA;\n",
              "      box-shadow: 0px 1px 2px rgba(60, 64, 67, 0.3), 0px 1px 3px 1px rgba(60, 64, 67, 0.15);\n",
              "      fill: #174EA6;\n",
              "    }\n",
              "\n",
              "    .colab-df-buttons div {\n",
              "      margin-bottom: 4px;\n",
              "    }\n",
              "\n",
              "    [theme=dark] .colab-df-convert {\n",
              "      background-color: #3B4455;\n",
              "      fill: #D2E3FC;\n",
              "    }\n",
              "\n",
              "    [theme=dark] .colab-df-convert:hover {\n",
              "      background-color: #434B5C;\n",
              "      box-shadow: 0px 1px 3px 1px rgba(0, 0, 0, 0.15);\n",
              "      filter: drop-shadow(0px 1px 2px rgba(0, 0, 0, 0.3));\n",
              "      fill: #FFFFFF;\n",
              "    }\n",
              "  </style>\n",
              "\n",
              "    <script>\n",
              "      const buttonEl =\n",
              "        document.querySelector('#df-027ffc38-1526-466d-9d93-704c4b1537d5 button.colab-df-convert');\n",
              "      buttonEl.style.display =\n",
              "        google.colab.kernel.accessAllowed ? 'block' : 'none';\n",
              "\n",
              "      async function convertToInteractive(key) {\n",
              "        const element = document.querySelector('#df-027ffc38-1526-466d-9d93-704c4b1537d5');\n",
              "        const dataTable =\n",
              "          await google.colab.kernel.invokeFunction('convertToInteractive',\n",
              "                                                    [key], {});\n",
              "        if (!dataTable) return;\n",
              "\n",
              "        const docLinkHtml = 'Like what you see? Visit the ' +\n",
              "          '<a target=\"_blank\" href=https://colab.research.google.com/notebooks/data_table.ipynb>data table notebook</a>'\n",
              "          + ' to learn more about interactive tables.';\n",
              "        element.innerHTML = '';\n",
              "        dataTable['output_type'] = 'display_data';\n",
              "        await google.colab.output.renderOutput(dataTable, element);\n",
              "        const docLink = document.createElement('div');\n",
              "        docLink.innerHTML = docLinkHtml;\n",
              "        element.appendChild(docLink);\n",
              "      }\n",
              "    </script>\n",
              "  </div>\n",
              "\n",
              "    </div>\n",
              "  </div>\n"
            ]
          },
          "metadata": {},
          "execution_count": 10
        }
      ]
    },
    {
      "cell_type": "markdown",
      "metadata": {
        "id": "-PYtxe5u2CVE"
      },
      "source": [
        "#### 피처 확인"
      ]
    },
    {
      "cell_type": "code",
      "execution_count": null,
      "metadata": {
        "id": "ajCftP-q2It7"
      },
      "outputs": [],
      "source": [
        "df.columns"
      ]
    },
    {
      "cell_type": "markdown",
      "metadata": {
        "id": "jnOPxIGazbqv"
      },
      "source": [
        "# EDA"
      ]
    },
    {
      "cell_type": "code",
      "execution_count": null,
      "metadata": {
        "id": "dmpHOtu482OB"
      },
      "outputs": [],
      "source": [
        "df['hvfhs_license_num'].unique()"
      ]
    },
    {
      "cell_type": "markdown",
      "metadata": {
        "id": "N3tJDg5G9D32"
      },
      "source": [
        "HV0003:Uber\n",
        "\n",
        "HV0005:Lyft\n"
      ]
    },
    {
      "cell_type": "code",
      "execution_count": null,
      "metadata": {
        "id": "0qVv0oyPJlsg"
      },
      "outputs": [],
      "source": [
        "id_mapping = {\n",
        "    'HV0003': 'Uber',\n",
        "    'HV0005': 'Lyft'\n",
        "}\n",
        "df['company'] = df['hvfhs_license_num'].map(id_mapping)"
      ]
    },
    {
      "cell_type": "markdown",
      "metadata": {
        "id": "Pi-2xKLe4m9q"
      },
      "source": [
        "### 결측값 확인"
      ]
    },
    {
      "cell_type": "code",
      "execution_count": null,
      "metadata": {
        "id": "eC9Llerf5DmZ"
      },
      "outputs": [],
      "source": [
        "#행개수확인\n",
        "row_count = df.shape[0]\n",
        "print(\"행의 개수:\", row_count)"
      ]
    },
    {
      "cell_type": "code",
      "execution_count": null,
      "metadata": {
        "id": "ixK7wL_x3w2G"
      },
      "outputs": [],
      "source": [
        "missing_values = df.isnull().sum()\n",
        "print(missing_values)"
      ]
    },
    {
      "cell_type": "markdown",
      "metadata": {
        "id": "vDMKj80a9vgu"
      },
      "source": [
        "## 1. 두 회사의 평일 시간대별 택시 운행 수 시각화"
      ]
    },
    {
      "cell_type": "code",
      "execution_count": null,
      "metadata": {
        "id": "yUKaq_gb42Lr"
      },
      "outputs": [],
      "source": [
        "#필요 피처 정의\n",
        "df_hour_ana = df[['company','pickup_datetime','dispatching_base_num']]"
      ]
    },
    {
      "cell_type": "code",
      "execution_count": null,
      "metadata": {
        "id": "MmC_5vvp_shl"
      },
      "outputs": [],
      "source": [
        "#index 설정\n",
        "df_hour_ana = df_hour_ana.set_index('pickup_datetime')"
      ]
    },
    {
      "cell_type": "code",
      "execution_count": null,
      "metadata": {
        "id": "pbUq1tsA_axs"
      },
      "outputs": [],
      "source": [
        "#요일,시간 분리\n",
        "df_hour_ana['hour'] = df_hour_ana.index.hour\n",
        "df_hour_ana['weekday'] = df_hour_ana.index.weekday\n",
        "\n",
        "#평일 설정\n",
        "df_weekday = df_hour_ana[df_hour_ana['weekday'].isin([0, 1, 2, 3, 4])]\n"
      ]
    },
    {
      "cell_type": "code",
      "execution_count": null,
      "metadata": {
        "id": "21kkEt3v4tfi"
      },
      "outputs": [],
      "source": [
        "# 시간대별 count(운행량) 계산\n",
        "df_count = df_hour_ana.groupby(['hour', 'company']).size().reset_index(name='count')\n",
        "\n",
        "# 시각화\n",
        "plt.figure(figsize=(10, 6))\n",
        "sns.lineplot(x='hour', y='count', hue='company', data=df_count)\n",
        "plt.xlabel('시간대')\n",
        "plt.ylabel('Count')\n",
        "plt.title('두 회사의 시간대별 운행량')\n",
        "\n",
        "#출근시간대, 퇴근시간대 강조\n",
        "highlight_hours = [7, 9, 16, 18]\n",
        "for hour in highlight_hours:\n",
        "    plt.axvline(x=hour, color='red', linestyle='--', alpha=0.5)\n",
        "\n",
        "plt.show()\n"
      ]
    },
    {
      "cell_type": "markdown",
      "metadata": {
        "id": "Wd9bAFd8K003"
      },
      "source": [
        "- 분석 과제 설정에서 출근시간을 6 ~ 8시, 퇴근시간을 16 ~ 18시로 설정했으나 그래프상 출근시간은 적절히 정의되었으나 퇴근시간을 16시~19시로 조정을 고려해봐도 좋을듯 함\n",
        "\n",
        "- Uber와 Lyft는 굳이 검정할 필요없이 유의미한 차이를 보임\n",
        "\n",
        "- 분명 한글이 잘 나왔는데 또 안나오네?"
      ]
    },
    {
      "cell_type": "markdown",
      "metadata": {
        "id": "Ta0SM1BqMk8C"
      },
      "source": [
        "# 3. 가설 설정 및 분석\n"
      ]
    },
    {
      "cell_type": "markdown",
      "metadata": {
        "id": "1rM8WKKZNjeW"
      },
      "source": [
        "## 3-1 동네 별로 팁 금액의 유의미한 차이가 있을 것이다\n"
      ]
    },
    {
      "cell_type": "markdown",
      "metadata": {
        "id": "Nm3saO3jNoIL"
      },
      "source": [
        "동네 별로 팀 금액에 유의미한 차이가 있는지 분석한다. 데이터의 장소 관련 피처엔 'PULocationID'과 'DOLocationID' 두 피처가 존재한다. PULocationID은 출발 위치이고 DOLocationID은 도착위치이다. 본 가설은 거주지역과 관련한 분석이므로 출근시간과 퇴근시간을 고려하여 분석을 진행한다."
      ]
    },
    {
      "cell_type": "code",
      "execution_count": null,
      "metadata": {
        "id": "jJ_7z2XzMqE5"
      },
      "outputs": [],
      "source": [
        "df.columns"
      ]
    },
    {
      "cell_type": "code",
      "execution_count": null,
      "metadata": {
        "id": "OdsUO2nlM54C"
      },
      "outputs": [],
      "source": [
        "#필요 피처 정의\n",
        "df_hy1 = df[['company','PULocationID', 'DOLocationID','pickup_datetime','dropoff_datetime','tips']]"
      ]
    },
    {
      "cell_type": "markdown",
      "metadata": {
        "id": "zYlrbLBAPtXa"
      },
      "source": [
        "거주지역을 고려하는 분석이므로 출근 시간대는 PULocationID 와 연결짓고 퇴근 시간대는 DOLocationID와 연결짓는다."
      ]
    },
    {
      "cell_type": "markdown",
      "metadata": {
        "id": "NxVixZoWQ0Fs"
      },
      "source": [
        "### 3-1-1 EDA"
      ]
    },
    {
      "cell_type": "code",
      "execution_count": null,
      "metadata": {
        "id": "VlTJGh6fQHmN"
      },
      "outputs": [],
      "source": [
        "df_hy1['tips'].value_counts()"
      ]
    },
    {
      "cell_type": "markdown",
      "metadata": {
        "id": "sevT6rTWQ3_c"
      },
      "source": [
        "56853541번의 운행에서 81%에 해당하는 46148890번 팁이 0으로 기록됐다. 팁을 주지 않은 것일까? 팁을 기록하지 않은 것일까?\n",
        "\n",
        "우선 19%에 해당하는 운행에서 팁이 기록되었으므로 이 데이터를 통해 분석한다. 0원을 제외하고 팁의 분포를 시각화해보면 다음과 같다.\n"
      ]
    },
    {
      "cell_type": "markdown",
      "metadata": {
        "id": "ai_wU2MRTbVs"
      },
      "source": [
        "#### 3-1-1-1 Boxplot & histogram"
      ]
    },
    {
      "cell_type": "code",
      "execution_count": null,
      "metadata": {
        "id": "pOVPtvIWTiIK"
      },
      "outputs": [],
      "source": [
        "# 0.00 값을 제외한 데이터 필터링\n",
        "filtered_tips = df_hy1[df_hy1['tips'] != 0]['tips']\n",
        "\n",
        "#Box Plot\n",
        "plt.figure(figsize=(10, 6))\n",
        "sns.boxplot(data=filtered_tips)\n",
        "plt.ylabel('Tips')\n",
        "plt.title('Box Plot of Non-Zero Tips')\n",
        "\n"
      ]
    },
    {
      "cell_type": "code",
      "execution_count": null,
      "metadata": {
        "id": "emrPeAp0XlD1"
      },
      "outputs": [],
      "source": [
        "# 히스토그램 그리기\n",
        "plt.figure(figsize=(10, 6))\n",
        "plt.hist(filtered_tips, bins=35, edgecolor='black')\n",
        "plt.xlabel('Tips')\n",
        "plt.ylabel('Frequency')\n",
        "plt.title('Distribution of Non-Zero Tips')\n",
        "plt.show()"
      ]
    },
    {
      "cell_type": "code",
      "execution_count": null,
      "metadata": {
        "id": "kMsXcN2uW1PH"
      },
      "outputs": [],
      "source": [
        "import numpy as np\n",
        "\n",
        "# IQR 계산\n",
        "Q1 = np.percentile(filtered_tips, 25)\n",
        "Q3 = np.percentile(filtered_tips, 75)\n",
        "IQR = Q3 - Q1\n",
        "\n",
        "# 이상치의 상한/하한 값 계산\n",
        "upper_bound = Q3 + 1.5 * IQR\n",
        "lower_bound = Q1 - 1.5 * IQR\n",
        "\n",
        "# 이상치 비율 계산\n",
        "outliers = filtered_tips[(filtered_tips > upper_bound) | (filtered_tips < lower_bound)]\n",
        "outlier_ratio = len(outliers) / len(filtered_tips) * 100\n",
        "\n",
        "print(\"이상치 비율:\", outlier_ratio,\"%\")\n"
      ]
    },
    {
      "cell_type": "code",
      "execution_count": null,
      "metadata": {
        "id": "Ud_E2-YnaNHG"
      },
      "outputs": [],
      "source": [
        "from scipy.stats import shapiro\n",
        "# shapiro-wilk test\n",
        "statistic, p_value = shapiro(filtered_tips)\n",
        "\n",
        "print(\"검정 통계량:\", statistic)\n",
        "print(\"p-value:\", p_value)"
      ]
    },
    {
      "cell_type": "code",
      "execution_count": null,
      "metadata": {
        "id": "u5hgos3Nbz5F"
      },
      "outputs": [],
      "source": [
        "#가장 많이 낸 금액은?\n",
        "max(filtered_tips)"
      ]
    },
    {
      "cell_type": "markdown",
      "metadata": {
        "id": "wtYT_lCVXUel"
      },
      "source": [
        "- 이상치로 인해 데이터 분포가 왜곡되고 중심 경향성과 분산에 영향을 미칠 수 있기 때문에 정규분포를 따른다고 보기 힘들어 보인다. 또한 히스토그램을 봐도 육안상으로 정규분포를 따른다고 보기 힘들다. shapiro-wilk test도 통과하지 못했다.\n",
        "\n",
        "- 팁으로 184달러를 왜 냈을까?"
      ]
    },
    {
      "cell_type": "markdown",
      "metadata": {
        "id": "GfeLm0uaVcQV"
      },
      "source": [
        "#### 3-1-1-2 Log transformation & Boxplot"
      ]
    },
    {
      "cell_type": "markdown",
      "metadata": {
        "id": "8uD_KrtkVAzD"
      },
      "source": [
        "0원을 제외했는데도 불구하고 전혀 정규분포를 따른다고 보기 어려워 보인다. 로그 변환을 적용해 본다."
      ]
    },
    {
      "cell_type": "code",
      "execution_count": null,
      "metadata": {
        "id": "tROExgEHVzVr"
      },
      "outputs": [],
      "source": [
        "# 로그 변환 적용\n",
        "transformed_tips = np.log(filtered_tips)\n",
        "\n",
        "# 이상치 확인을 위한 상자 그림(Box Plot)\n",
        "plt.figure(figsize=(10, 6))\n",
        "sns.boxplot(data=transformed_tips)\n",
        "plt.ylabel('Log Tips')\n",
        "plt.title('Box Plot of Transformed Tips')\n",
        "\n",
        "plt.show()"
      ]
    },
    {
      "cell_type": "code",
      "execution_count": null,
      "metadata": {
        "id": "yjqzn1odYRcV"
      },
      "outputs": [],
      "source": [
        "plt.figure(figsize=(10, 6))\n",
        "plt.hist(transformed_tips, bins=35, edgecolor='black')\n",
        "plt.xlabel('Tips')\n",
        "plt.ylabel('Frequency')\n",
        "plt.title('Distribution of Non-Zero Tips')\n",
        "plt.show()"
      ]
    },
    {
      "cell_type": "markdown",
      "metadata": {
        "id": "y8XSt2WeZDLC"
      },
      "source": [
        "로그변환을 했을때 어느정도 정규분포를 따를 수도 있는 것처럼 보인다. 그러면 정규성 검정도 통과할까?"
      ]
    },
    {
      "cell_type": "markdown",
      "metadata": {
        "id": "2TwBBmZcZNte"
      },
      "source": [
        "#### 3-1-1-3 Log transformation & Shapiro-wilk test"
      ]
    },
    {
      "cell_type": "code",
      "execution_count": null,
      "metadata": {
        "id": "-6zkEbZ9dCCZ"
      },
      "outputs": [],
      "source": [
        "len(filtered_tips)"
      ]
    },
    {
      "cell_type": "code",
      "execution_count": null,
      "metadata": {
        "id": "OiMfvK3lZobV"
      },
      "outputs": [],
      "source": [
        "from scipy.stats import shapiro\n",
        "\n",
        "statistic, p_value = shapiro(transformed_tips)\n",
        "\n",
        "print(\"검정 통계량:\", statistic)\n",
        "print(\"p-value:\", p_value)"
      ]
    },
    {
      "cell_type": "markdown",
      "metadata": {
        "id": "Egy4hqnWZwUZ"
      },
      "source": [
        "p-value가 0.1이다. p-value가 0.05보다 작을때 '데이터가 정규분포를 따른다'라는 귀무가설을 기각하므로  로그변환했을때 해당 데이터의 분포는 정규분포를 따른다고 가정할 수 있다."
      ]
    },
    {
      "cell_type": "markdown",
      "metadata": {
        "id": "QTtYHS_9TAtX"
      },
      "source": [
        "### 3-1-2 분석 전 데이터 분류\n",
        "위에서 언급했다시피 지역을 고려하는 분석이므로 출근 시간대는 PULocationID 와 연결짓고 퇴근 시간대는 DOLocationID와 연결짓는다. 관련 시간대에 따라 분류후 장소값은 LocationID로 통일한다."
      ]
    },
    {
      "cell_type": "code",
      "execution_count": null,
      "metadata": {
        "id": "S0wXNR8KcNn3"
      },
      "outputs": [],
      "source": [
        "df_hy1['PULocationID'].isnull().sum()"
      ]
    },
    {
      "cell_type": "code",
      "execution_count": null,
      "metadata": {
        "id": "CahDvv-nagoX"
      },
      "outputs": [],
      "source": [
        "# 출근 시간대(06시부터 08시)에 해당하는 데이터 추출 및 LocationID로 변경\n",
        "pickup_data = df_hy1.loc[(df_hy1['hour_pickup'] >= 6) & (df_hy1['hour_pickup'] <= 8), ['company', 'PULocationID', 'hour_pickup', 'hour_dropoff', 'tips']]\n",
        "pickup_data = pickup_data.rename(columns={'PULocationID': 'LocationID'})\n",
        "\n",
        "# 퇴근 시간대(16시부터 19시)에 해당하는 데이터 추출 및 LocationID로 변경\n",
        "dropoff_data = df_hy1.loc[(df_hy1['hour_dropoff'] >= 16) & (df_hy1['hour_dropoff'] <= 19), ['company', 'DOLocationID', 'hour_pickup', 'hour_dropoff', 'tips']]\n",
        "dropoff_data = dropoff_data.rename(columns={'DOLocationID': 'LocationID'})\n",
        "\n",
        "# 병합하여 분석에 활용할 데이터프레임 생성\n",
        "df_hy1_ana = pd.concat([pickup_data, dropoff_data], ignore_index=True)\n"
      ]
    },
    {
      "cell_type": "code",
      "execution_count": null,
      "metadata": {
        "id": "_qPzQm4NWLhn"
      },
      "outputs": [],
      "source": [
        "df_hy1_ana.head()"
      ]
    },
    {
      "cell_type": "code",
      "execution_count": null,
      "metadata": {
        "id": "daEOCh95WQqF"
      },
      "outputs": [],
      "source": [
        "import scipy.stats as stats\n",
        "\n",
        "# LocationID에 따른 tips 데이터 추출\n",
        "location_groups = [group[1] for group in df_hy1_ana.groupby('LocationID')['tips']] #[group[1]은 tips\n",
        "\n",
        "# ANOVA\n",
        "f_statistic, p_value = stats.f_oneway(*location_groups)\n",
        "\n",
        "# 결과\n",
        "print(\"ANOVA 결과:\")\n",
        "print(\"F-통계량:\", f_statistic)\n",
        "print(\"p-value:\", p_value)\n"
      ]
    },
    {
      "cell_type": "markdown",
      "source": [
        "p-value가  0.05이하이므로 지역간의 tip이 유의미한 차이가 없다는 귀무가설을 기각하고 대립가설을 채택한다. 따라서 지역에 따른 tips의 평균에는 유의미한 차이가 있다고 결론을 내릴 수 있다."
      ],
      "metadata": {
        "id": "-SsSCiuGvSFL"
      }
    },
    {
      "cell_type": "markdown",
      "source": [
        "# 이상치 확인"
      ],
      "metadata": {
        "id": "-YEWByCfykv3"
      }
    },
    {
      "cell_type": "code",
      "source": [
        "max(df['tips'])"
      ],
      "metadata": {
        "id": "Xo6rtO4o6sIU"
      },
      "execution_count": null,
      "outputs": []
    },
    {
      "cell_type": "code",
      "source": [
        "df[df['tips'] == 184.17]\n"
      ],
      "metadata": {
        "id": "UoygEUXx6sIV"
      },
      "execution_count": null,
      "outputs": []
    },
    {
      "cell_type": "code",
      "source": [
        "df_sort = dt"
      ],
      "metadata": {
        "id": "gcuoPiBj6sIV"
      },
      "execution_count": null,
      "outputs": []
    }
  ],
  "metadata": {
    "accelerator": "GPU",
    "colab": {
      "machine_shape": "hm",
      "provenance": [],
      "collapsed_sections": [
        "NxVixZoWQ0Fs"
      ],
      "authorship_tag": "ABX9TyMvlxaA5ZL3BltvRJpFePh3",
      "include_colab_link": true
    },
    "kernelspec": {
      "display_name": "Python 3",
      "name": "python3"
    },
    "language_info": {
      "name": "python"
    }
  },
  "nbformat": 4,
  "nbformat_minor": 0
}